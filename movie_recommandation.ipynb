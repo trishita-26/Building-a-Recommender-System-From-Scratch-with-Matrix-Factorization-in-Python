{
  "nbformat": 4,
  "nbformat_minor": 0,
  "metadata": {
    "colab": {
      "provenance": [],
      "toc_visible": true
    },
    "kernelspec": {
      "name": "python3",
      "display_name": "Python 3"
    },
    "language_info": {
      "name": "python"
    }
  },
  "cells": [
    {
      "cell_type": "code",
      "execution_count": 2,
      "metadata": {
        "id": "sBQo9lDi4JGF"
      },
      "outputs": [],
      "source": [
        "import numpy as np\n",
        "import pandas as pd\n",
        "import matplotlib.pyplot as plt\n",
        "from surprise import Dataset, Reader, SVD\n",
        "from surprise.model_selection import train_test_split, cross_validate\n",
        "from surprise import accuracy\n",
        "import requests\n",
        "import zipfile\n",
        "import io\n",
        "import os"
      ]
    },
    {
      "cell_type": "code",
      "source": [
        "def download_and_extract_movielens():\n",
        "    if not os.path.exists('ml-100k'):\n",
        "        print(\"Downloading MovieLens 100K dataset...\")\n",
        "        url = \"https://files.grouplens.org/datasets/movielens/ml-100k.zip\"\n",
        "        r = requests.get(url)\n",
        "        z = zipfile.ZipFile(io.BytesIO(r.content))\n",
        "        z.extractall()\n",
        "        print(\"Movielens 100K dataset downloaded and extracted successfully.\")\n",
        "    else:\n",
        "        print(\"The dataset already exists. Download skipped.\")"
      ],
      "metadata": {
        "id": "Ae7aP4Ij4PH8"
      },
      "execution_count": 3,
      "outputs": []
    },
    {
      "cell_type": "code",
      "source": [
        "download_and_extract_movielens()\n",
        "\n",
        "ratings_df = pd.read_csv('ml-100k/u.data', sep='\\t',\n",
        "                       names=['user_id', 'item_id', 'rating', 'timestamp'])\n",
        "\n",
        "print(f\"Dataset shape: {ratings_df.shape}\")\n",
        "print(f\"Number of unique users: {ratings_df['user_id'].nunique()}\")\n",
        "print(f\"Number of unique movies: {ratings_df['item_id'].nunique()}\")\n",
        "print(f\"Range of ratings: {ratings_df['rating'].min()} to {ratings_df['rating'].max()}\")"
      ],
      "metadata": {
        "colab": {
          "base_uri": "https://localhost:8080/"
        },
        "id": "jhi7HsxX5LLC",
        "outputId": "7be3875c-1d7c-489f-feb6-b657cbf32220"
      },
      "execution_count": 4,
      "outputs": [
        {
          "output_type": "stream",
          "name": "stdout",
          "text": [
            "Downloading MovieLens 100K dataset...\n",
            "Movielens 100K dataset downloaded and extracted successfully.\n",
            "Dataset shape: (100000, 4)\n",
            "Number of unique users: 943\n",
            "Number of unique movies: 1682\n",
            "Range of ratings: 1 to 5\n"
          ]
        }
      ]
    },
    {
      "cell_type": "code",
      "source": [
        "reader = Reader(rating_scale=(1, 5))\n",
        "data = Dataset.load_from_df(ratings_df[['user_id', 'item_id', 'rating']], reader)\n",
        "\n",
        "trainset, testset = train_test_split(data, test_size=0.2, random_state=42)"
      ],
      "metadata": {
        "id": "TaPOEgcq5MIX"
      },
      "execution_count": 5,
      "outputs": []
    },
    {
      "cell_type": "code",
      "source": [
        "model = SVD(n_factors=20, lr_all=0.01, reg_all=0.01, n_epochs=20, random_state=42)\n",
        "model.fit(trainset)\n",
        "\n",
        "predictions = model.test(testset)\n",
        "rmse = accuracy.rmse(predictions)\n",
        "mae = accuracy.mae(predictions)\n",
        "\n",
        "print(f\"Test RMSE: {rmse:.4f}\")\n",
        "print(f\"Test MAE: {mae:.4f}\")"
      ],
      "metadata": {
        "colab": {
          "base_uri": "https://localhost:8080/"
        },
        "id": "anzNSeik51KN",
        "outputId": "b4eb7921-9b1a-4caf-bc3f-1fd12ebf79fc"
      },
      "execution_count": 6,
      "outputs": [
        {
          "output_type": "stream",
          "name": "stdout",
          "text": [
            "RMSE: 0.9576\n",
            "MAE:  0.7455\n",
            "Test RMSE: 0.9576\n",
            "Test MAE: 0.7455\n"
          ]
        }
      ]
    },
    {
      "cell_type": "code",
      "source": [
        "cv_results = cross_validate(model, data, measures=['RMSE', 'MAE'], cv=5, verbose=True)\n",
        "\n",
        "print(f\"Average RMSE: {cv_results['test_rmse'].mean():.4f}\")\n",
        "print(f\"Average MAE: {cv_results['test_mae'].mean():.4f}\")"
      ],
      "metadata": {
        "colab": {
          "base_uri": "https://localhost:8080/"
        },
        "id": "Z4j6bWUR6Fad",
        "outputId": "0e0d11b9-3596-4bed-f1c8-f39b98c6977c"
      },
      "execution_count": 7,
      "outputs": [
        {
          "output_type": "stream",
          "name": "stdout",
          "text": [
            "Evaluating RMSE, MAE of algorithm SVD on 5 split(s).\n",
            "\n",
            "                  Fold 1  Fold 2  Fold 3  Fold 4  Fold 5  Mean    Std     \n",
            "RMSE (testset)    0.9535  0.9611  0.9545  0.9600  0.9581  0.9574  0.0030  \n",
            "MAE (testset)     0.7462  0.7512  0.7431  0.7520  0.7506  0.7486  0.0034  \n",
            "Fit time          1.11    0.94    1.07    1.13    1.15    1.08    0.08    \n",
            "Test time         0.27    0.11    0.32    0.12    0.28    0.22    0.09    \n",
            "Average RMSE: 0.9574\n",
            "Average MAE: 0.7486\n"
          ]
        }
      ]
    },
    {
      "cell_type": "code",
      "source": [
        "def get_movie_names():\n",
        "    movies_df = pd.read_csv('ml-100k/u.item', sep='|', encoding='latin-1',\n",
        "                          header=None, usecols=[0, 1],\n",
        "                          names=['item_id', 'title'])\n",
        "    return movies_df\n",
        "\n",
        "movies_df = get_movie_names()\n",
        "\n",
        "def recommend_movies(user_id, n=10):\n",
        "    # List of all movies\n",
        "    all_movies = movies_df['item_id'].unique()\n",
        "\n",
        "    # Movies already rated by the user\n",
        "    rated_movies = ratings_df[ratings_df['user_id'] == user_id]['item_id'].values\n",
        "\n",
        "    # Movies not yet rated by the user\n",
        "    unrated_movies = np.setdiff1d(all_movies, rated_movies)\n",
        "\n",
        "    # Predicting ratings on unseen movies, by using the trained SVD model\n",
        "    predictions = []\n",
        "    for item_id in unrated_movies:\n",
        "        predicted_rating = model.predict(user_id, item_id).est\n",
        "        predictions.append((item_id, predicted_rating))\n",
        "\n",
        "    # Rank predictions by estimated rating\n",
        "    predictions.sort(key=lambda x: x[1], reverse=True)\n",
        "\n",
        "    # Get top N recommendations\n",
        "    top_recommendations = predictions[:n]\n",
        "\n",
        "    # Fetch movie titles associated with top N recommendations\n",
        "    recommendations = pd.DataFrame(top_recommendations, columns=['item_id', 'predicted_rating'])\n",
        "    recommendations = recommendations.merge(movies_df, on='item_id')\n",
        "\n",
        "    return recommendations"
      ],
      "metadata": {
        "id": "PZOeSEI06KJs"
      },
      "execution_count": 8,
      "outputs": []
    },
    {
      "cell_type": "code",
      "source": [
        "user_id = 42\n",
        "recommendations = recommend_movies(user_id, n=10)\n",
        "\n",
        "print(f\"\\nTop 10 recommended movies for user {user_id}:\")\n",
        "print(recommendations[['title', 'predicted_rating']])"
      ],
      "metadata": {
        "colab": {
          "base_uri": "https://localhost:8080/"
        },
        "id": "FqUPV2zh7iVy",
        "outputId": "f6b9b549-5735-49bd-c0c9-ba83d77ba98e"
      },
      "execution_count": 9,
      "outputs": [
        {
          "output_type": "stream",
          "name": "stdout",
          "text": [
            "\n",
            "Top 10 recommended movies for user 42:\n",
            "                                     title  predicted_rating\n",
            "0                        Braveheart (1995)          5.000000\n",
            "1                           Titanic (1997)          5.000000\n",
            "2                         Boot, Das (1981)          5.000000\n",
            "3  Some Folks Call It a Sling Blade (1993)          4.702539\n",
            "4    Day the Earth Stood Still, The (1951)          4.641970\n",
            "5                           Top Hat (1935)          4.624840\n",
            "6                       Being There (1979)          4.620471\n",
            "7                        Home Alone (1990)          4.619863\n",
            "8            Miracle on 34th Street (1994)          4.613372\n",
            "9                 Great Escape, The (1963)          4.607529\n"
          ]
        }
      ]
    },
    {
      "cell_type": "code",
      "source": [
        "user_id = 22\n",
        "recommendations = recommend_movies(user_id, n=10)\n",
        "\n",
        "print(f\"\\nTop 10 recommended movies for user {user_id}:\")\n",
        "print(recommendations[['title', 'predicted_rating']])"
      ],
      "metadata": {
        "colab": {
          "base_uri": "https://localhost:8080/"
        },
        "id": "_qg6Tyvt87TU",
        "outputId": "fc4e89e4-e48a-48bf-beb1-500ae0dd209a"
      },
      "execution_count": 10,
      "outputs": [
        {
          "output_type": "stream",
          "name": "stdout",
          "text": [
            "\n",
            "Top 10 recommended movies for user 22:\n",
            "                                          title  predicted_rating\n",
            "0                              Apollo 13 (1995)          5.000000\n",
            "1                                 Clerks (1994)          5.000000\n",
            "2                    Clockwork Orange, A (1971)          5.000000\n",
            "3                                 Scream (1996)          5.000000\n",
            "4                        Wings of Desire (1987)          5.000000\n",
            "5                          Happy Gilmore (1996)          5.000000\n",
            "6                            Rear Window (1954)          4.882127\n",
            "7  Rosencrantz and Guildenstern Are Dead (1990)          4.844697\n",
            "8                     When We Were Kings (1996)          4.799633\n",
            "9                             GoodFellas (1990)          4.790532\n"
          ]
        }
      ]
    },
    {
      "cell_type": "code",
      "source": [],
      "metadata": {
        "id": "M8R4aMR2-lFr"
      },
      "execution_count": null,
      "outputs": []
    }
  ]
}